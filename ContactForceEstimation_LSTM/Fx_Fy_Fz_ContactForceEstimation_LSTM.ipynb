{
 "cells": [
  {
   "cell_type": "code",
   "execution_count": 17,
   "id": "b3a431ce",
   "metadata": {},
   "outputs": [],
   "source": [
    "import torch\n",
    "import torch.nn as nn\n",
    "import torch.optim as optim\n",
    "import pandas as pd\n",
    "import numpy as np\n",
    "import matplotlib.pyplot as plt\n",
    "import math\n",
    "from torch.utils.data import DataLoader, TensorDataset\n",
    "from sklearn.preprocessing import MinMaxScaler\n",
    "from torch.nn.utils.rnn import pad_sequence\n",
    "from torch.autograd import Variable "
   ]
  },
  {
   "cell_type": "code",
   "execution_count": 18,
   "id": "36390ba3",
   "metadata": {},
   "outputs": [
    {
     "name": "stdout",
     "output_type": "stream",
     "text": [
      "device = cuda\n",
      "(71993, 3)\n"
     ]
    }
   ],
   "source": [
    "# device가 cuda 면 --> GPU 사용, cpu 면 cpu 사용하는 것임.\n",
    "device = 'cuda' if torch.cuda.is_available() else 'cpu'\n",
    "print(f'device = {device}')\n",
    "\n",
    "# pandas 함수를 사용해 csv에서 원하는 데이터셋을 들고옴.\n",
    "rawdata = pd.read_csv(\"DatasetCSV/TrainData.csv\")\n",
    "\n",
    "# OUTPUT Fx, Fy, Fz\n",
    "Data_foot_Fx = rawdata[\"Fx_foot\"]\n",
    "Data_foot_Fy = rawdata[\"Fy_foot\"]\n",
    "Data_foot_Fz = rawdata[\"Fz_foot\"]\n",
    "\n",
    "# OUTPUT Fx, Fy, Fz Label array를 만들기 위한 코드 부분-차원 (71993, 3)\n",
    "##################################################\n",
    "len_data = len(Data_foot_Fx)\n",
    "output_array = np.empty((0,3))\n",
    "output_data_list = []\n",
    "        \n",
    "for i in range(len_data):\n",
    "    output_data_list.append(Data_foot_Fx[i])\n",
    "    output_data_list.append(Data_foot_Fy[i])\n",
    "    output_data_list.append(Data_foot_Fz[i])\n",
    "    \n",
    "    if len(output_data_list) == 3:\n",
    "        output_array = np.append(output_array, np.array([output_data_list]), axis = 0) \n",
    "        output_data_list = []\n",
    "\n",
    "output_train_data = output_array[0:71993:]\n",
    "##################################################\n",
    "\n",
    "print(output_train_data.shape)"
   ]
  },
  {
   "cell_type": "code",
   "execution_count": 19,
   "id": "a78d02b5",
   "metadata": {},
   "outputs": [
    {
     "name": "stdout",
     "output_type": "stream",
     "text": [
      "input_train_data = (71993, 7, 6)\n",
      "output_train_data = (71993, 3)\n"
     ]
    }
   ],
   "source": [
    "# INPUT KP_q_error, KP_qdot_erro, Z_error, Tor_HR, Tor_HP, Tor_KP\n",
    "Data_knee_pitch_q_error = rawdata[\"q_err_KP\"]\n",
    "Data_knee_pitch_q_dot_error = rawdata[\"qdot_err_KP\"]\n",
    "Data_Z_error = rawdata[\"z_error\"]\n",
    "Data_hip_roll_Torque = rawdata[\"Tor_HR\"]\n",
    "Data_hip_pitch_Torque = rawdata[\"Tor_HP\"] \n",
    "Data_knee_pitch_Torque = rawdata[\"Tor_KP\"]\n",
    "\n",
    "# INPUT array를 만들기 위한 코드 부분-차원 (71993, 7, 6)\n",
    "##################################################\n",
    "len_data = len(Data_knee_pitch_q_error)\n",
    "input_array = np.empty((0,6))\n",
    "input_data_list = []\n",
    "\n",
    "for i in range(len_data):\n",
    "    input_data_list.append(Data_knee_pitch_q_error[i])\n",
    "    input_data_list.append(Data_knee_pitch_q_dot_error[i])\n",
    "    input_data_list.append(Data_Z_error[i])\n",
    "    input_data_list.append(Data_hip_roll_Torque[i])\n",
    "    input_data_list.append(Data_hip_pitch_Torque[i])\n",
    "    input_data_list.append(Data_knee_pitch_Torque[i])\n",
    "    \n",
    "    if len(input_data_list) == 6:\n",
    "        input_array = np.append(input_array, np.array([input_data_list]), axis = 0) \n",
    "        input_data_list = []\n",
    "\n",
    "input_train_dataset = input_array[0:72000:]\n",
    "input_array_test = np.array(input_array)\n",
    "\n",
    "# LSTM window size를 위한 함수 부분 seq_length --> window size\n",
    "seq_length = 7\n",
    "\n",
    "def build_dataset(time_series_data, sequence_length):\n",
    "    data = []\n",
    "    for i in range(0, len(time_series_data)-sequence_length):\n",
    "        _x = time_series_data[i:i+sequence_length, :]\n",
    "        data.append(_x)        \n",
    "    return np.array(data)\n",
    "\n",
    "input_train_data = build_dataset(input_train_dataset, seq_length)\n",
    "##################################################\n",
    "\n",
    "print(f'input_train_data = {input_train_data.shape}')\n",
    "print(f'output_train_data = {output_train_data.shape}')"
   ]
  },
  {
   "cell_type": "code",
   "execution_count": 20,
   "id": "ca431ab5",
   "metadata": {},
   "outputs": [],
   "source": [
    "# Batch size\n",
    "batch_size = 32\n",
    "\n",
    "# INPUT, OUTPUT array --> Tensor\n",
    "output_train_dataset = torch.FloatTensor(output_train_data).to(device)\n",
    "input_train_dataset = torch.FloatTensor(input_train_data).to(device)\n",
    "\n",
    "# INPUT, OUTPUT TensorDataset(input, output) --> DataLoader(Dataset, batch_size, data_shuffle = True/False)\n",
    "train_dataset = TensorDataset(input_train_dataset, output_train_dataset)\n",
    "train_loader = DataLoader(train_dataset, batch_size=batch_size, shuffle=True)"
   ]
  },
  {
   "cell_type": "code",
   "execution_count": 29,
   "id": "2b88ccdb",
   "metadata": {},
   "outputs": [],
   "source": [
    "data_dim = 6           # Input data 차원\n",
    "hidden_dim = 10        # hidden 노드 차원\n",
    "output_dim = 3         # Output data 차원\n",
    "learning_rate = 0.01   # Adam Optimizer learning_rate\n",
    "epochs = 1             # epoch 수\n",
    "lstm_layers = 3        # lstm 층 개수\n",
    "\n",
    "\n",
    "# pytorch --> torch.nn 의 nn.LSTM 모델을 사용한 model Class\n",
    "class Net(nn.Module):\n",
    "    def __init__(self, input_dim, hidden_dim, sequence_len, output_dim, layers, dropout=0.1):\n",
    "        super(Net, self).__init__()\n",
    "        self.hidden_dim = hidden_dim\n",
    "        self.seq_len = sequence_len\n",
    "        self.output_dim = output_dim\n",
    "        self.layers = layers\n",
    "        \n",
    "        # nn.LSTM(input차원사이즈, output차원사이즈, Lstm층수, batch_first = True)\n",
    "        # batch_first = True --> Input 차원 (batch_size, sequence_len, input_dim)\n",
    "        # 현재 Input 차원 --> (32, 7, 6)\n",
    "        self.lstm = nn.LSTM(input_dim, hidden_dim, num_layers = layers, batch_first = True)\n",
    "        # 마지막에 Fx, Fy, Fz로 바꾸기 위해 노드 수를 3개로 맞춰줌.\n",
    "        self.fc = nn.Linear(hidden_dim, output_dim, bias = True)\n",
    "        \n",
    "        \n",
    "    def forward(self,x):\n",
    "        \n",
    "        # LSTM hidden layer 변수, cell state 변수 초기화\n",
    "        h_0 = Variable(torch.zeros(self.layers, x.size(0), self.hidden_dim)).to(device) #hidden state\n",
    "        c_0 = Variable(torch.zeros(self.layers, x.size(0), self.hidden_dim)).to(device) #internal state   \n",
    "\n",
    "        output, (hn, cn) = self.lstm(x, (h_0, c_0)) #lstm with input, hidden, and internal state\n",
    "#         print(f'x = {x.shape}')                # shape --> (32, 7, 10)                  \n",
    "#         print(f'x[:, -1] = {x[:, -1].shape}')  # shape --> (32, 10) 7개중 마지막 결과값 받아옴--> 마지막 도출값을 label과 비교\n",
    "        out = self.fc(output[:, -1]) # shape --> (32, 3)\n",
    "        return out\n",
    "\n",
    "# LSTM 모델 Class 생성\n",
    "net_lstm = Net(data_dim, hidden_dim, seq_length, output_dim, lstm_layers).to(device) "
   ]
  },
  {
   "cell_type": "code",
   "execution_count": 30,
   "id": "b6a4bfab",
   "metadata": {},
   "outputs": [],
   "source": [
    "# train 하기 위한 함수 부분\n",
    "def train_model(model, train_df, num_epochs = None, lr = None, verbose = 20):\n",
    "     \n",
    "    criterion = nn.MSELoss().to(device)\n",
    "    optimizer = optim.Adam(model.parameters())\n",
    "    nb_epochs = num_epochs\n",
    "    \n",
    "    # epoch마다 loss 저장\n",
    "    train_hist = np.zeros(nb_epochs)\n",
    "\n",
    "    for epoch in range(nb_epochs):\n",
    "        avg_cost = 0\n",
    "        total_batch = len(train_df)\n",
    "        \n",
    "        for batch_idx, samples in enumerate(train_df):\n",
    "\n",
    "            x_train, y_train = samples\n",
    "            outputs = model(x_train)\n",
    "            loss = criterion(outputs, y_train)                    \n",
    "\n",
    "            optimizer.zero_grad()\n",
    "            loss.backward()\n",
    "            optimizer.step()\n",
    "            \n",
    "            avg_cost += loss/total_batch\n",
    "               \n",
    "        train_hist[epoch] = avg_cost        \n",
    "        \n",
    "        if epoch % verbose == 0:\n",
    "            print('Epoch:', '%04d' % (epoch), 'train loss :', '{:.4f}'.format(avg_cost))\n",
    "            \n",
    "    return model.eval(), train_hist"
   ]
  },
  {
   "cell_type": "code",
   "execution_count": 31,
   "id": "d19adc14",
   "metadata": {},
   "outputs": [
    {
     "name": "stdout",
     "output_type": "stream",
     "text": [
      "Epoch: 0000 train loss : 69.3872\n"
     ]
    }
   ],
   "source": [
    "# model Training\n",
    "model, train_hist = train_model(net_lstm, train_loader, num_epochs = epochs, lr = learning_rate, verbose = 20)"
   ]
  },
  {
   "cell_type": "code",
   "execution_count": 32,
   "id": "0edce4a3",
   "metadata": {},
   "outputs": [
    {
     "data": {
      "image/png": "[encoded data removed]",
      "text/plain": [
       "<Figure size 2000x1000 with 1 Axes>"
      ]
     },
     "metadata": {},
     "output_type": "display_data"
    }
   ],
   "source": [
    "# Training Loss Plotting\n",
    "fig = plt.figure(figsize=(20, 10))\n",
    "plt.plot(train_hist, label=\"Training loss\")\n",
    "plt.legend()\n",
    "plt.show()"
   ]
  },
  {
   "cell_type": "code",
   "execution_count": null,
   "id": "57d93cea",
   "metadata": {},
   "outputs": [],
   "source": [
    "# 모델 파라미터 Weight 저장\n",
    "# torch.save(model.state_dict(), 'Weights/Lstm_FxFyFz_take19_weights.pth')"
   ]
  }
 ],
 "metadata": {
  "kernelspec": {
   "display_name": "Python 3 (ipykernel)",
   "language": "python",
   "name": "python3"
  },
  "language_info": {
   "codemirror_mode": {
    "name": "ipython",
    "version": 3
   },
   "file_extension": ".py",
   "mimetype": "text/x-python",
   "name": "python",
   "nbconvert_exporter": "python",
   "pygments_lexer": "ipython3",
   "version": "3.7.16"
  }
 },
 "nbformat": 4,
 "nbformat_minor": 5
}
